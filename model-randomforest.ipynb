{
 "cells": [
  {
   "cell_type": "code",
   "execution_count": 1,
   "metadata": {},
   "outputs": [],
   "source": [
    "# Importing necesarry libraries\n",
    "import pandas as pd\n",
    "from sklearn.ensemble import RandomForestRegressor\n",
    "import numpy as np"
   ]
  },
  {
   "cell_type": "code",
   "execution_count": 3,
   "metadata": {},
   "outputs": [
    {
     "data": {
      "text/html": [
       "<div>\n",
       "<style scoped>\n",
       "    .dataframe tbody tr th:only-of-type {\n",
       "        vertical-align: middle;\n",
       "    }\n",
       "\n",
       "    .dataframe tbody tr th {\n",
       "        vertical-align: top;\n",
       "    }\n",
       "\n",
       "    .dataframe thead th {\n",
       "        text-align: right;\n",
       "    }\n",
       "</style>\n",
       "<table border=\"1\" class=\"dataframe\">\n",
       "  <thead>\n",
       "    <tr style=\"text-align: right;\">\n",
       "      <th></th>\n",
       "      <th>Marka</th>\n",
       "      <th>Seri</th>\n",
       "      <th>Yıl</th>\n",
       "      <th>Kasa Tipi</th>\n",
       "      <th>Yakit Tipi</th>\n",
       "      <th>Vites Tipi</th>\n",
       "      <th>Paket</th>\n",
       "      <th>Km</th>\n",
       "      <th>Tramer</th>\n",
       "      <th>Fiyat</th>\n",
       "    </tr>\n",
       "  </thead>\n",
       "  <tbody>\n",
       "    <tr>\n",
       "      <th>0</th>\n",
       "      <td>1</td>\n",
       "      <td>1</td>\n",
       "      <td>2012</td>\n",
       "      <td>1</td>\n",
       "      <td>1</td>\n",
       "      <td>1</td>\n",
       "      <td>1</td>\n",
       "      <td>103000</td>\n",
       "      <td>0</td>\n",
       "      <td>366500</td>\n",
       "    </tr>\n",
       "    <tr>\n",
       "      <th>1</th>\n",
       "      <td>2</td>\n",
       "      <td>2</td>\n",
       "      <td>2012</td>\n",
       "      <td>1</td>\n",
       "      <td>2</td>\n",
       "      <td>1</td>\n",
       "      <td>2</td>\n",
       "      <td>149000</td>\n",
       "      <td>5203</td>\n",
       "      <td>310000</td>\n",
       "    </tr>\n",
       "    <tr>\n",
       "      <th>2</th>\n",
       "      <td>2</td>\n",
       "      <td>2</td>\n",
       "      <td>2008</td>\n",
       "      <td>1</td>\n",
       "      <td>1</td>\n",
       "      <td>1</td>\n",
       "      <td>3</td>\n",
       "      <td>220000</td>\n",
       "      <td>964</td>\n",
       "      <td>230000</td>\n",
       "    </tr>\n",
       "    <tr>\n",
       "      <th>3</th>\n",
       "      <td>3</td>\n",
       "      <td>3</td>\n",
       "      <td>2009</td>\n",
       "      <td>2</td>\n",
       "      <td>1</td>\n",
       "      <td>1</td>\n",
       "      <td>4</td>\n",
       "      <td>187000</td>\n",
       "      <td>3000</td>\n",
       "      <td>245000</td>\n",
       "    </tr>\n",
       "    <tr>\n",
       "      <th>4</th>\n",
       "      <td>2</td>\n",
       "      <td>4</td>\n",
       "      <td>2009</td>\n",
       "      <td>1</td>\n",
       "      <td>3</td>\n",
       "      <td>2</td>\n",
       "      <td>5</td>\n",
       "      <td>268000</td>\n",
       "      <td>0</td>\n",
       "      <td>300000</td>\n",
       "    </tr>\n",
       "  </tbody>\n",
       "</table>\n",
       "</div>"
      ],
      "text/plain": [
       "   Marka  Seri   Yıl  Kasa Tipi  Yakit Tipi  Vites Tipi  Paket      Km  \\\n",
       "0      1     1  2012          1           1           1      1  103000   \n",
       "1      2     2  2012          1           2           1      2  149000   \n",
       "2      2     2  2008          1           1           1      3  220000   \n",
       "3      3     3  2009          2           1           1      4  187000   \n",
       "4      2     4  2009          1           3           2      5  268000   \n",
       "\n",
       "   Tramer   Fiyat  \n",
       "0       0  366500  \n",
       "1    5203  310000  \n",
       "2     964  230000  \n",
       "3    3000  245000  \n",
       "4       0  300000  "
      ]
     },
     "execution_count": 3,
     "metadata": {},
     "output_type": "execute_result"
    }
   ],
   "source": [
    "carData = pd.read_excel(\"MasterRev5.xlsx\")\n",
    "carData.head()"
   ]
  },
  {
   "cell_type": "code",
   "execution_count": 4,
   "metadata": {},
   "outputs": [],
   "source": [
    "X = carData[['Marka','Seri','Yıl','Kasa Tipi','Yakit Tipi','Vites Tipi','Paket','Km','Tramer']]\n",
    "\n",
    "y = np.array(pd.DataFrame(carData['Fiyat']))\n"
   ]
  },
  {
   "cell_type": "code",
   "execution_count": 5,
   "metadata": {},
   "outputs": [],
   "source": [
    "from sklearn.model_selection import train_test_split\n",
    "X_train, X_test, y_train, y_test = train_test_split(X, y, test_size=0.25, random_state=42)"
   ]
  },
  {
   "cell_type": "code",
   "execution_count": 6,
   "metadata": {},
   "outputs": [
    {
     "data": {
      "text/html": [
       "<style>#sk-container-id-1 {color: black;background-color: white;}#sk-container-id-1 pre{padding: 0;}#sk-container-id-1 div.sk-toggleable {background-color: white;}#sk-container-id-1 label.sk-toggleable__label {cursor: pointer;display: block;width: 100%;margin-bottom: 0;padding: 0.3em;box-sizing: border-box;text-align: center;}#sk-container-id-1 label.sk-toggleable__label-arrow:before {content: \"▸\";float: left;margin-right: 0.25em;color: #696969;}#sk-container-id-1 label.sk-toggleable__label-arrow:hover:before {color: black;}#sk-container-id-1 div.sk-estimator:hover label.sk-toggleable__label-arrow:before {color: black;}#sk-container-id-1 div.sk-toggleable__content {max-height: 0;max-width: 0;overflow: hidden;text-align: left;background-color: #f0f8ff;}#sk-container-id-1 div.sk-toggleable__content pre {margin: 0.2em;color: black;border-radius: 0.25em;background-color: #f0f8ff;}#sk-container-id-1 input.sk-toggleable__control:checked~div.sk-toggleable__content {max-height: 200px;max-width: 100%;overflow: auto;}#sk-container-id-1 input.sk-toggleable__control:checked~label.sk-toggleable__label-arrow:before {content: \"▾\";}#sk-container-id-1 div.sk-estimator input.sk-toggleable__control:checked~label.sk-toggleable__label {background-color: #d4ebff;}#sk-container-id-1 div.sk-label input.sk-toggleable__control:checked~label.sk-toggleable__label {background-color: #d4ebff;}#sk-container-id-1 input.sk-hidden--visually {border: 0;clip: rect(1px 1px 1px 1px);clip: rect(1px, 1px, 1px, 1px);height: 1px;margin: -1px;overflow: hidden;padding: 0;position: absolute;width: 1px;}#sk-container-id-1 div.sk-estimator {font-family: monospace;background-color: #f0f8ff;border: 1px dotted black;border-radius: 0.25em;box-sizing: border-box;margin-bottom: 0.5em;}#sk-container-id-1 div.sk-estimator:hover {background-color: #d4ebff;}#sk-container-id-1 div.sk-parallel-item::after {content: \"\";width: 100%;border-bottom: 1px solid gray;flex-grow: 1;}#sk-container-id-1 div.sk-label:hover label.sk-toggleable__label {background-color: #d4ebff;}#sk-container-id-1 div.sk-serial::before {content: \"\";position: absolute;border-left: 1px solid gray;box-sizing: border-box;top: 0;bottom: 0;left: 50%;z-index: 0;}#sk-container-id-1 div.sk-serial {display: flex;flex-direction: column;align-items: center;background-color: white;padding-right: 0.2em;padding-left: 0.2em;position: relative;}#sk-container-id-1 div.sk-item {position: relative;z-index: 1;}#sk-container-id-1 div.sk-parallel {display: flex;align-items: stretch;justify-content: center;background-color: white;position: relative;}#sk-container-id-1 div.sk-item::before, #sk-container-id-1 div.sk-parallel-item::before {content: \"\";position: absolute;border-left: 1px solid gray;box-sizing: border-box;top: 0;bottom: 0;left: 50%;z-index: -1;}#sk-container-id-1 div.sk-parallel-item {display: flex;flex-direction: column;z-index: 1;position: relative;background-color: white;}#sk-container-id-1 div.sk-parallel-item:first-child::after {align-self: flex-end;width: 50%;}#sk-container-id-1 div.sk-parallel-item:last-child::after {align-self: flex-start;width: 50%;}#sk-container-id-1 div.sk-parallel-item:only-child::after {width: 0;}#sk-container-id-1 div.sk-dashed-wrapped {border: 1px dashed gray;margin: 0 0.4em 0.5em 0.4em;box-sizing: border-box;padding-bottom: 0.4em;background-color: white;}#sk-container-id-1 div.sk-label label {font-family: monospace;font-weight: bold;display: inline-block;line-height: 1.2em;}#sk-container-id-1 div.sk-label-container {text-align: center;}#sk-container-id-1 div.sk-container {/* jupyter's `normalize.less` sets `[hidden] { display: none; }` but bootstrap.min.css set `[hidden] { display: none !important; }` so we also need the `!important` here to be able to override the default hidden behavior on the sphinx rendered scikit-learn.org. See: https://github.com/scikit-learn/scikit-learn/issues/21755 */display: inline-block !important;position: relative;}#sk-container-id-1 div.sk-text-repr-fallback {display: none;}</style><div id=\"sk-container-id-1\" class=\"sk-top-container\"><div class=\"sk-text-repr-fallback\"><pre>RandomForestRegressor(n_estimators=1000, random_state=42)</pre><b>In a Jupyter environment, please rerun this cell to show the HTML representation or trust the notebook. <br />On GitHub, the HTML representation is unable to render, please try loading this page with nbviewer.org.</b></div><div class=\"sk-container\" hidden><div class=\"sk-item\"><div class=\"sk-estimator sk-toggleable\"><input class=\"sk-toggleable__control sk-hidden--visually\" id=\"sk-estimator-id-1\" type=\"checkbox\" checked><label for=\"sk-estimator-id-1\" class=\"sk-toggleable__label sk-toggleable__label-arrow\">RandomForestRegressor</label><div class=\"sk-toggleable__content\"><pre>RandomForestRegressor(n_estimators=1000, random_state=42)</pre></div></div></div></div></div>"
      ],
      "text/plain": [
       "RandomForestRegressor(n_estimators=1000, random_state=42)"
      ]
     },
     "execution_count": 6,
     "metadata": {},
     "output_type": "execute_result"
    }
   ],
   "source": [
    "regressionModel = RandomForestRegressor(n_estimators=1000,random_state=42)\n",
    "regressionModel.fit(X_train.values,np.ravel(y_train,order='C'))"
   ]
  },
  {
   "cell_type": "code",
   "execution_count": 7,
   "metadata": {},
   "outputs": [],
   "source": [
    "y_predi = regressionModel.predict(X_test.values)\n",
    "y_pred = []\n",
    "for pred in y_predi:\n",
    "    y_pred.append([pred])\n",
    "\n",
    "y_pred=np.array(y_pred)\n",
    "\n",
    "# carDataPred = pd.DataFrame({'Actual': y_test,'Predicted': y_pred})\n",
    "# carDataPred.head()"
   ]
  },
  {
   "cell_type": "code",
   "execution_count": 8,
   "metadata": {},
   "outputs": [
    {
     "data": {
      "text/plain": [
       "0.8428920810127568"
      ]
     },
     "execution_count": 8,
     "metadata": {},
     "output_type": "execute_result"
    }
   ],
   "source": [
    "from sklearn.metrics import explained_variance_score\n",
    "from sklearn.preprocessing import minmax_scale\n",
    "\n",
    "explained_variance_score(y_test,y_pred)"
   ]
  },
  {
   "cell_type": "code",
   "execution_count": 9,
   "metadata": {},
   "outputs": [
    {
     "data": {
      "text/plain": [
       "array([333663.23])"
      ]
     },
     "execution_count": 9,
     "metadata": {},
     "output_type": "execute_result"
    }
   ],
   "source": [
    "regressionModel.predict(np.array([1,11,2011,2,1,1,1,150000,2000]).reshape(1,-1))\n"
   ]
  },
  {
   "cell_type": "code",
   "execution_count": 13,
   "metadata": {},
   "outputs": [],
   "source": [
    "import customtkinter as ctk\n",
    "import tkinter as tk\n",
    "import time\n",
    "import os\n",
    "\n",
    "count = 1\n",
    "delayTime = 10\n",
    "\n",
    "marka = ['Lütfen Marka Seçiniz','Opel','Ford','Renault','Volkswagen','Honda','Fiat','Toyota','Skoda','Audi','Hyundai','Dacia','BMW']\n",
    "markaID = [0,1,2,3,4,5,6,7,8,9,10,11,12]\n",
    "\n",
    "model = {'Opel':['Lütfen Model Seçiniz','Astra','Corsa'],'Ford':['Lütfen Model Seçiniz','Fiesta','Focus'],'Renault':['Lütfen Model Seçiniz','Clio','Fluence','Megane','Symbol'],\n",
    "'Volkswagen':['Lütfen Model Seçiniz','Golf','Jetta','Passat','Polo'],'Honda':['Lütfen Model Seçiniz','Civic'],'Fiat':['Lütfen Model Seçiniz','Egea','Linea'],\n",
    "'Toyota':['Lütfen Model Seçiniz','Corolla'],'Skoda':['Lütfen Model Seçiniz','SuperB'],'Audi':['Lütfen Model Seçiniz','A3','A4'],\n",
    "'Hyundai':['Lütfen Model Seçiniz','Accent Blue','Accent Era'],'Dacia':['Lütfen Model Seçiniz','Sandero'],'BMW':['Lütfen Model Seçiniz','5 Serisi']}\n",
    "\n",
    "modelID = {'Opel':[0,11,1],'Ford':[0,2,4],'Renault':[0,5,21,3,20],\n",
    "'Volkswagen':[0,17,7,19,6],'Honda':[0,8],'Fiat':[0,15,9],'Toyota':[0,10],\n",
    "'Skoda':[0,12],'Audi':[0,14,13],'Hyundai':[0,18,16],'Dacia':[0,22],'BMW':[0,23]}\n",
    "\n",
    "kasaTipi, kasaTipiID = ['Lütfen Kasa Tipi Seçiniz','Hatchback','Sedan','Station wagon','Coupe','Cabrio','MPV'],[0,1,2,3,4,5,6]\n",
    "\n",
    "yakitTipi, yakitTipiID = ['Lütfen Yakıt Tipi Seçiniz','Dizel','Benzin','LPG & Benzin','Hibrit'],[0,1,2,3,4]\n",
    "\n",
    "vitesTipi, vitesTipiID = ['Lütfen Vites Tipi Seçiniz','Düz','Otomatik','Yarı Otomatik'],[0,1,2,3]\n",
    "\n",
    "paketDF = pd.read_excel('category.xlsx', sheet_name='Paket')\n",
    "\n",
    "paketAdi, paketID = list(paketDF['Paket']),list(paketDF['ID'])\n",
    "\n",
    "mainWindow=ctk.CTk()\n",
    "mainWindow.title('Car Price Prediction Application(CPPreA)')\n",
    "w = 1280\n",
    "h = 720\n",
    "\n",
    "ws = mainWindow.winfo_screenwidth()\n",
    "hs = mainWindow.winfo_screenheight() \n",
    "x = (ws/2) - (w/2)\n",
    "y = (hs/2) - (h/2)\n",
    "\n",
    "mainWindow.geometry('%dx%d+%d+%d' % (w, h, x, y-20))\n",
    "\n",
    "def getMarka(name):\n",
    "    global modelCombo\n",
    "    modelCombo.destroy()\n",
    "    modelCombo = ctk.CTkComboBox(mainWindow,values=model[name])\n",
    "    modelCombo.place(relx=0.15,rely=0.1+0.075*1,relwidth=0.175,anchor=tk.CENTER)\n",
    "\n",
    "def filterPaket():\n",
    "    global paketCombo\n",
    "    filterP = paketFilter.get()\n",
    "    filteredList = list(filter(lambda k: filterP in k, paketAdi))\n",
    "    paketCombo.destroy()\n",
    "    paketCombo = ctk.CTkComboBox(mainWindow,values=filteredList)\n",
    "    paketCombo.place(relx=0.15,rely=.1+0.075*7,relwidth=0.175,anchor=tk.CENTER)\n",
    "\n",
    "\n",
    "def timerPredict():\n",
    "    global count,delayTime\n",
    "    resultLabel.configure(text=('Bekleyiniz: '+'['+'#'*(count)+'_'*(delayTime-count)+']'),text_color='#93C572',font=('Arial',15))\n",
    "    count+=1\n",
    "    if count==12:\n",
    "        predictFn()\n",
    "    else:\n",
    "        mainWindow.after(500,timerPredict)\n",
    "\n",
    "def predictFn():\n",
    "    global count\n",
    "    count=1\n",
    "    \n",
    "    markaIDp = markaID[marka.index(markaCombo.get())]\n",
    "    modelIDp = modelID[markaCombo.get()][model[markaCombo.get()].index(modelCombo.get())]\n",
    "    yilVal = int(yilEntry.get())\n",
    "    kasaIDp = kasaTipiID[kasaTipi.index(kasaCombo.get())]\n",
    "    yakitIDp = yakitTipiID[yakitTipi.index(yakitCombo.get())]\n",
    "    vitesIDp = vitesTipiID[vitesTipi.index(vitesCombo.get())]\n",
    "    paketIDp = paketID[paketAdi.index(paketCombo.get())]\n",
    "    kmVal = int(kmEntry.get())\n",
    "    tramerVal = int(tramerEntry.get())\n",
    "    predictArray = np.array([markaIDp,modelIDp,yilVal,kasaIDp,yakitIDp,vitesIDp,paketIDp,kmVal,tramerVal]).reshape(1,-1)\n",
    "    result = regressionModel.predict(predictArray)\n",
    "\n",
    "    resultLabel.configure(text=('{:.1f}'.format(result[0])+' ₺'),text_color='#93C572',font=('Arial',20))\n",
    "    \n",
    "    resultList.insert('end',('{}      {}      {}      {}      {}      {}      {}      {}      {}      {:.1f}').format(\n",
    "        markaCombo.get(),modelCombo.get(),yilEntry.get(),kasaCombo.get(),yakitCombo.get(),vitesCombo.get(),paketCombo.get(),kmEntry.get(),tramerEntry.get(),result[0]))\n",
    "    \n",
    "\n",
    "\n",
    "markaCombo = ctk.CTkComboBox(mainWindow,values=marka,command=getMarka)\n",
    "markaCombo.place(relx=0.15,rely=.1,relwidth=0.175,anchor=tk.CENTER)\n",
    "\n",
    "modelCombo = ctk.CTkComboBox(mainWindow,values=['Lütfen Önce Marka Seçiniz'])\n",
    "modelCombo.place(relx=0.15,rely=0.1+0.075*1,relwidth=0.175,anchor=tk.CENTER)\n",
    "\n",
    "yilEntry = ctk.CTkEntry(mainWindow,placeholder_text='Lütfen Araç Model Yılını Giriniz')\n",
    "yilEntry.place(relx=0.15,rely=.1+0.075*2,relwidth=0.175,anchor=tk.CENTER)\n",
    "\n",
    "kasaCombo = ctk.CTkComboBox(mainWindow,values=kasaTipi)\n",
    "kasaCombo.place(relx=0.15,rely=.1+0.075*3,relwidth=0.175,anchor=tk.CENTER)\n",
    "\n",
    "yakitCombo = ctk.CTkComboBox(mainWindow,values=yakitTipi)\n",
    "yakitCombo.place(relx=0.15,rely=.1+0.075*4,relwidth=0.175,anchor=tk.CENTER)\n",
    "\n",
    "vitesCombo = ctk.CTkComboBox(mainWindow,values=vitesTipi)\n",
    "vitesCombo.place(relx=0.15,rely=.1+0.075*5,relwidth=0.175,anchor=tk.CENTER)\n",
    "\n",
    "paketFilter = ctk.CTkEntry(mainWindow,placeholder_text='Paket Fitresi')\n",
    "paketFilter.place(relx=0.1375,rely=.1+0.075*6,relwidth=0.15,anchor=tk.CENTER)\n",
    "\n",
    "paketFilterBtn = ctk.CTkButton(mainWindow,text='',command=filterPaket)\n",
    "paketFilterBtn.place(relx=0.15+0.075+0.00125,rely=.1+0.075*6,relwidth=0.025,anchor=tk.CENTER)\n",
    "\n",
    "paketCombo = ctk.CTkComboBox(mainWindow,values=paketAdi)\n",
    "paketCombo.place(relx=0.15,rely=.1+0.075*7,relwidth=0.175,anchor=tk.CENTER)\n",
    "\n",
    "kmEntry = ctk.CTkEntry(mainWindow,placeholder_text='Km Giriniz')\n",
    "kmEntry.place(relx=0.15,rely=.1+0.075*8,relwidth=0.175,anchor=tk.CENTER)\n",
    "\n",
    "tramerEntry = ctk.CTkEntry(mainWindow,placeholder_text='Tramer Tutarı Giriniz')\n",
    "tramerEntry.place(relx=0.15,rely=.1+0.075*9,relwidth=0.175,anchor=tk.CENTER)\n",
    "\n",
    "predictButton = ctk.CTkButton(mainWindow,command=timerPredict,text='Fiyat Tahmin Et')\n",
    "predictButton.place(relx=0.15,rely=.1+0.075*10,anchor=tk.CENTER)\n",
    "\n",
    "resultBox = tk.LabelFrame(mainWindow,text=\"Sonuç\",bg=\"#222325\",fg=\"silver\")\n",
    "resultBox.place(relx=0.15,rely=.1+0.075*11.125,relheight=0.1,relwidth=0.15,anchor=tk.CENTER)\n",
    "\n",
    "resultLabel = ctk.CTkLabel(resultBox,text='')\n",
    "resultLabel.place(relx=0.5,rely=0.5,anchor=tk.CENTER)\n",
    "\n",
    "resultList = tk.Listbox(mainWindow,background=\"#222325\",fg='silver')\n",
    "resultList.place(relx=0.3,rely=0.075,relwidth=0.65,relheight=0.75)\n",
    "\n",
    "exitButton = ctk.CTkButton(mainWindow,command=mainWindow.destroy,text='Çıkış')\n",
    "exitButton.place(relx=0.9,rely=0.9,anchor=tk.CENTER)\n",
    "\n",
    "\n",
    "mainWindow.mainloop()\n"
   ]
  }
 ],
 "metadata": {
  "kernelspec": {
   "display_name": "Python 3",
   "language": "python",
   "name": "python3"
  },
  "language_info": {
   "codemirror_mode": {
    "name": "ipython",
    "version": 3
   },
   "file_extension": ".py",
   "mimetype": "text/x-python",
   "name": "python",
   "nbconvert_exporter": "python",
   "pygments_lexer": "ipython3",
   "version": "3.10.7 (tags/v3.10.7:6cc6b13, Sep  5 2022, 14:08:36) [MSC v.1933 64 bit (AMD64)]"
  },
  "orig_nbformat": 4,
  "vscode": {
   "interpreter": {
    "hash": "d15eb5a55f56d79deabe98850fbaaf786be2dd1a67eec96195f00ca9e015c54c"
   }
  }
 },
 "nbformat": 4,
 "nbformat_minor": 2
}
